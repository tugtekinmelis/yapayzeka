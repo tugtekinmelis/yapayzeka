import numpy as np
import pandas as pd
import matplotlib.pyplot as plt
from sklearn.cluster import KMeans 


# Rastgele bir veri kümesi oluşturuyoruz
np.random.seed(0)
X1 = np.random.normal(loc=4, scale=1, size=(100, 2))  # Küme 1
X2 = np.random.normal(loc=10, scale=1, size=(100, 2)) # Küme 2
X3 = np.random.normal(loc=15, scale=1, size=(100, 2)) # Küme 3


# Verileri birleştiriyoruz
X = np.concatenate([X1, X2, X3], axis=0)


# K-means ile kümeleme
kmeans = KMeans(n_clusters=3, random_state=0)
kmeans.fit(X)


# Sonuçları görselleştirme
plt.scatter(X[:, 0], X[:, 1], c=kmeans.labels_, cmap='viridis')
plt.scatter(kmeans.cluster_centers_[:, 0], kmeans.cluster_centers_[:, 1], s=200, c='red', marker='X')
plt.title("K-means Kümeleme Sonuçları")
plt.xlabel('Özellik 1')
plt.ylabel('Özellik 2')
plt.show()